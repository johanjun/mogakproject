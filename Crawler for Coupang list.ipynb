{
 "cells": [
  {
   "cell_type": "code",
   "execution_count": 5,
   "metadata": {},
   "outputs": [
    {
     "name": "stdout",
     "output_type": "stream",
     "text": [
      "Collecting selenium\n",
      "  Downloading selenium-3.141.0-py2.py3-none-any.whl (904 kB)\n",
      "\u001b[K     |████████████████████████████████| 904 kB 53 kB/s eta 0:00:016\n",
      "\u001b[?25hRequirement already satisfied: urllib3 in /Users/johanjun/opt/anaconda3/lib/python3.8/site-packages (from selenium) (1.25.11)\n",
      "Installing collected packages: selenium\n",
      "Successfully installed selenium-3.141.0\n"
     ]
    }
   ],
   "source": [
    "!pip install selenium"
   ]
  },
  {
   "cell_type": "code",
   "execution_count": 60,
   "metadata": {},
   "outputs": [],
   "source": [
    "from selenium import webdriver\n",
    "from selenium.webdriver.common.keys import Keys\n",
    "import time"
   ]
  },
  {
   "cell_type": "code",
   "execution_count": 85,
   "metadata": {},
   "outputs": [],
   "source": [
    "url = 'https://www.coupang.com/np/categories/317778?listSize=120&brand=&offerCondition=&filterType=&isPriceRange=false&minPrice=&maxPrice=&page=1&channel=user&fromComponent=N&selectedPlpKeepFilter=&sorter=bestAsc&filter=&rating=0'\n",
    "driver = webdriver.Chrome()\n",
    "driver.get(url)\n",
    "time.sleep(0.5)"
   ]
  },
  {
   "cell_type": "markdown",
   "metadata": {},
   "source": [
    "### 제목 저장"
   ]
  },
  {
   "cell_type": "code",
   "execution_count": 29,
   "metadata": {},
   "outputs": [],
   "source": [
    "indexes = [2128457892, 1867517431, 2004420920, 234431834, 4362223890, 2298101166, 4529588116, 338522765, 1760932212, 322882628, 245670231, 172134037, 234431816, 1910733296, 1633628457, 172134026, 293172333, 4536806566, 172134024, 263146304, 169554834, 1825816060, 172134008, 4562910365, 4830734869, 1445439468, 1546553167, 2050645873, 4702806339, 1395654124, 1514391272, 2321803378, 1540038879, 1633628127, 1444714113, 1421838263, 1867705748, 2273382744, 2368834753, 306146810, 1494802053, 201952451, 293172436, 4745518805, 194679479, 4841413393, 2172796727, 161844125, 1819294750, 1079386660, 4508411723, 2228290078, 293472681, 222522597, 2160868446, 251289723, 5018353652, 194679439, 1566159219, 194679483, 4830721563, 4705761556, 1910733270, 1395650683, 1343368524, 1238419556, 4745518860, 4917919239, 5010029840, 4841306229, 1159464501, 1164408651, 1082864655, 1826180649, 2280522456, 1624155002, 2050465051, 315993880, 1807750903, 1332295769, 4655315139, 1633628165, 306146801, 4841308910, 4841307084, 207463706, 1955306724, 2039282840, 144031151, 232768975, 4698969080, 4704643400, 1253888860, 4577672480, 2119263866, 144935891, 4327842161, 1762472488, 256564900, 181354198, 172134063, 5406350, 2035248202, 119021085, 1343373066, 1306899493, 1535835666, 4323034766, 1736364258, 169554773, 104700941, 111605332, 1820860905, 4713799985, 4539254836, 267943909, 4841306425, 5150400206, 1164492759, 1722037315]\n"
   ]
  },
  {
   "cell_type": "code",
   "execution_count": 43,
   "metadata": {},
   "outputs": [],
   "source": [
    "li = []"
   ]
  },
  {
   "cell_type": "code",
   "execution_count": 44,
   "metadata": {},
   "outputs": [],
   "source": [
    "for i in indexes:\n",
    "    li.append(driver.find_element_by_xpath(\"//*[@id=\"+str(i)+\"]/a/dl/dd/div[2]\").text)"
   ]
  },
  {
   "cell_type": "code",
   "execution_count": 45,
   "metadata": {},
   "outputs": [
    {
     "data": {
      "text/plain": [
       "['Apple 애플워치 SE, GPS, 실버 알루미늄 케이스, 화이트 스포츠 밴드',\n",
       " '아이엠 쿨마스크 5매 SET, 혼합색상',\n",
       " '[쿠팡 직수입] 샤오미 미밴드 5 한글버전, 블랙',\n",
       " '베이스알파 에센셜 남성용 스포츠 스니커즈 양말 10p, 화이트',\n",
       " '나이키 스우시 컴포트핏 이너컬러 쿠션 미들삭스 양말 3p NCICMD20L-3, 화이트, 화이트, 화이트']"
      ]
     },
     "execution_count": 45,
     "metadata": {},
     "output_type": "execute_result"
    }
   ],
   "source": [
    "li[:5]"
   ]
  },
  {
   "cell_type": "code",
   "execution_count": 47,
   "metadata": {},
   "outputs": [],
   "source": [
    "import pandas as pd\n",
    "titles = pd.Series(li)"
   ]
  },
  {
   "cell_type": "code",
   "execution_count": 49,
   "metadata": {
    "scrolled": true
   },
   "outputs": [
    {
     "data": {
      "text/plain": [
       "0          Apple 애플워치 SE, GPS, 실버 알루미늄 케이스, 화이트 스포츠 밴드\n",
       "1                                아이엠 쿨마스크 5매 SET, 혼합색상\n",
       "2                          [쿠팡 직수입] 샤오미 미밴드 5 한글버전, 블랙\n",
       "3                   베이스알파 에센셜 남성용 스포츠 스니커즈 양말 10p, 화이트\n",
       "4    나이키 스우시 컴포트핏 이너컬러 쿠션 미들삭스 양말 3p NCICMD20L-3, 화...\n",
       "dtype: object"
      ]
     },
     "execution_count": 49,
     "metadata": {},
     "output_type": "execute_result"
    }
   ],
   "source": [
    "titles[:5]"
   ]
  },
  {
   "cell_type": "code",
   "execution_count": 84,
   "metadata": {},
   "outputs": [],
   "source": [
    "driver.quit()"
   ]
  },
  {
   "cell_type": "markdown",
   "metadata": {},
   "source": [
    "### 리뷰 가져오기"
   ]
  },
  {
   "cell_type": "code",
   "execution_count": 57,
   "metadata": {},
   "outputs": [],
   "source": [
    "#상품 클릭\n",
    "driver.find_element_by_xpath(\"//*[@id=\"+str(indexes[0])+\"]/a/dl/dt/img\").click()"
   ]
  },
  {
   "cell_type": "code",
   "execution_count": 81,
   "metadata": {},
   "outputs": [],
   "source": [
    "time.sleep(0.7) \n",
    "url2 = 'https://www.coupang.com/vp/products/'+str(indexes[1])+''\n",
    "driver = webdriver.Chrome()\n",
    "driver.get(url2)   "
   ]
  },
  {
   "cell_type": "code",
   "execution_count": 77,
   "metadata": {},
   "outputs": [],
   "source": [
    "driver.find_element_by_css_selector(\"#btfTab > ul.tab-titles > li:nth-child(2)\").click()"
   ]
  },
  {
   "cell_type": "code",
   "execution_count": null,
   "metadata": {},
   "outputs": [],
   "source": []
  }
 ],
 "metadata": {
  "kernelspec": {
   "display_name": "Python 3",
   "language": "python",
   "name": "python3"
  },
  "language_info": {
   "codemirror_mode": {
    "name": "ipython",
    "version": 3
   },
   "file_extension": ".py",
   "mimetype": "text/x-python",
   "name": "python",
   "nbconvert_exporter": "python",
   "pygments_lexer": "ipython3",
   "version": "3.8.5"
  }
 },
 "nbformat": 4,
 "nbformat_minor": 4
}
